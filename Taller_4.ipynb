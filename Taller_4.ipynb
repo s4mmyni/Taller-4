{
  "nbformat": 4,
  "nbformat_minor": 0,
  "metadata": {
    "colab": {
      "provenance": [],
      "authorship_tag": "ABX9TyPg/J83WAii2JjGHgVU28IE",
      "include_colab_link": true
    },
    "kernelspec": {
      "name": "python3",
      "display_name": "Python 3"
    },
    "language_info": {
      "name": "python"
    }
  },
  "cells": [
    {
      "cell_type": "markdown",
      "metadata": {
        "id": "view-in-github",
        "colab_type": "text"
      },
      "source": [
        "<a href=\"https://colab.research.google.com/github/s4mmyni/Taller-4/blob/main/Taller_4.ipynb\" target=\"_parent\"><img src=\"https://colab.research.google.com/assets/colab-badge.svg\" alt=\"Open In Colab\"/></a>"
      ]
    },
    {
      "cell_type": "code",
      "execution_count": null,
      "metadata": {
        "id": "2NcTn3AoTEcC"
      },
      "outputs": [],
      "source": []
    },
    {
      "cell_type": "markdown",
      "source": [
        "# generador de discurso politico\n",
        "Imagina que formas parte de un equipo de campaña que necesita crear discursos políticos\n",
        "rápidamente. Para ello, contarás con una tabla de palabras y frases predefinidas para distintas\n",
        "secciones de un discurso: título, público objetivo, condición social, compromiso político, lucha social,\n",
        "promesa, beneficio populista y cantidad de votos (ver Fig. 1). El programa deberá construir un\n",
        "mensaje político seleccionando aleatoriamente una palabra o frase de cada categoría. El mensaje final\n",
        "debe mostrarse al terminar la ejecución del programa. Se recomienda el uso de listas, ciclos y la\n",
        "función de selección aleatoria para generar el discurso. Ejemplo: “Apreciados amigos con su ayuda\n",
        "venceré la pobreza y promoveré la igualdad de la comunidad.”\n",
        "\n",
        "#Algoritmo\n",
        "1. inicio\n",
        "2. crear discursos politicos rapidamente\n",
        "3. contamos con una tabla de palabras y frases predefinidas para distintas secciones de un discurso\n",
        "4. tenemos titulo, publico objetivo, condicion social, compromiso politico, lucha social, promesa, beneficio populista y cantidad de votos\n",
        "5. el prograna debe constribuir un mensaen politico seleccionado aleatoriamente\n",
        "6. una palabra o frase decada categoria\n",
        "7. el mensaje final debe mostrarse al terminar la ejecucion de el programa\n",
        "8. se recomienda el uso de lista, ciclos y a funcion de seleccion aleatoria para generar el discurso\n",
        "9. fin\n",
        "\n",
        "# pseudocodigo\n",
        "inicio\n",
        "// programa para crear discurso politico\n",
        "  INICIO\n",
        "\n",
        "// Definir tabla de palabras y frases predefinidas\n",
        "TABLA_PALABRAS = [\n",
        "  TITULO: [lista de títulos],\n",
        "  PUBLICO_OBJETIVO: [lista de públicos objetivo],\n",
        "  CONDICION_SOCIAL: [lista de condiciones sociales],\n",
        "  COMPROMISO_POLITICO: [lista de compromisos políticos],\n",
        "  LUCHA_SOCIAL: [lista de luchas sociales],\n",
        "  PROMESA: [lista de promesas],\n",
        "  BENEFICIO_POPULISTA: [lista de beneficios populistas],\n",
        "  CANTIDAD_VOTOS: [lista de cantidades de votos]\n",
        "]\n",
        "\n",
        "// Función para seleccionar palabra o frase aleatoria\n",
        "SELECCION_ALEATORIA(lista) = devuelve una palabra o frase aleatoria de la lista\n",
        "\n",
        "// Generar discurso político\n",
        "DISCURSO = \"\"\n",
        "AGREGAR_TITULO = SELECCION_ALEATORIA(TABLA_PALABRAS[TITULO])\n",
        "AGREGAR_PUBLICO_OBJETIVO = SELECCION_ALEATORIA(TABLA_PALABRAS[PUBLICO_OBJETIVO])\n",
        "AGREGAR_CONDICION_SOCIAL = SELECCION_ALEATORIA(TABLA_PALABRAS[CONDICION_SOCIAL])\n",
        "AGREGAR_COMPROMISO_POLITICO = SELECCION_ALEATORIA(TABLA_PALABRAS[COMPROMISO_POLITICO])\n",
        "AGREGAR_LUCHA_SOCIAL = SELECCION_ALEATORIA(TABLA_PALABRAS[LUCHA_SOCIAL])\n",
        "AGREGAR_PROMESA = SELECCION_ALEATORIA(TABLA_PALABRAS[PROMESA])\n",
        "AGREGAR_BENEFICIO_POPULISTA = SELECCION_ALEATORIA(TABLA_PALABRAS[BENEFICIO_POPULISTA])\n",
        "AGREGAR_CANTIDAD_VOTOS = SELECCION_ALEATORIA(TABLA_PALABRAS[CANTIDAD_VOTOS])\n",
        "\n",
        "DISCURSO = AGREGAR_TITULO + \" \" + AGREGAR_PUBLICO_OBJETIVO + \" \" + AGREGAR_CONDICION_SOCIAL + \" \" +\n",
        "           AGREGAR_COMPROMISO_POLITICO + \" \" + AGREGAR_LUCHA_SOCIAL + \" \" + AGREGAR_PROMESA + \" \" +\n",
        "           AGREGAR_BENEFICIO_POPULISTA + \" \" + AGREGAR_CANTIDAD_VOTOS\n",
        "\n",
        "// Mostrar discurso político\n",
        "IMPRIMIR DISCURSO\n",
        "\n",
        "FIN\n",
        "\n",
        "\n",
        "\n",
        "\n",
        "\n",
        "\n",
        "\n",
        "\n"
      ],
      "metadata": {
        "id": "i0CEJSfsUEwe"
      }
    },
    {
      "cell_type": "code",
      "source": [
        "import random\n",
        "\n",
        "# Definir tabla de palabras y frases predefinidas\n",
        "tabla_palabras = {\n",
        "    \"titulo\": [\"Juntos podemos\", \"Un nuevo camino\", \"La esperanza de un futuro mejor\"],\n",
        "    \"publico_objetivo\": [\"trabajadores\", \"jóvenes\", \"familias\"],\n",
        "    \"condicion_social\": [\"en situación de pobreza\", \"con necesidades básicas insatisfechas\", \"con dificultades económicas\"],\n",
        "    \"compromiso_politico\": [\"me comprometo a luchar\", \"estoy dispuesto a trabajar\", \"mi objetivo es mejorar\"],\n",
        "    \"lucha_social\": [\"por la justicia social\", \"contra la corrupción\", \"por la igualdad\"],\n",
        "    \"promesa\": [\"mejorar la educación\", \"aumentar la seguridad\", \"reducir la pobreza\"],\n",
        "    \"beneficio_populista\": [\"más empleos\", \"mejores servicios públicos\", \"mayor acceso a la salud\"],\n",
        "    \"cantidad_votos\": [\"miles de votos\", \"decenas de miles de votos\", \"cientos de miles de votos\"]\n",
        "}\n",
        "\n",
        "# Función para seleccionar palabra o frase aleatoria\n",
        "def seleccion_aleatoria(lista):\n",
        "    return random.choice(lista)\n",
        "\n",
        "# Generar discurso político\n",
        "discurso = \"\"\n",
        "discurso += seleccion_aleatoria(tabla_palabras[\"titulo\"]) + \" \"\n",
        "discurso += seleccion_aleatoria(tabla_palabras[\"publico_objetivo\"]) + \" \"\n",
        "discurso += seleccion_aleatoria(tabla_palabras[\"condicion_social\"]) + \" \"\n",
        "discurso += seleccion_aleatoria(tabla_palabras[\"compromiso_politico\"]) + \" \"\n",
        "discurso += seleccion_aleatoria(tabla_palabras[\"lucha_social\"]) + \" \"\n",
        "discurso += seleccion_aleatoria(tabla_palabras[\"promesa\"]) + \" \"\n",
        "discurso += seleccion_aleatoria(tabla_palabras[\"beneficio_populista\"]) + \" \"\n",
        "discurso += seleccion_aleatoria(tabla_palabras[\"cantidad_votos\"]) + \" \"\n",
        "\n",
        "print(discurso)\n"
      ],
      "metadata": {
        "colab": {
          "base_uri": "https://localhost:8080/"
        },
        "id": "MslJL4QojAc2",
        "outputId": "c1ba9105-9ab6-483a-82bf-66ef8bc3509f"
      },
      "execution_count": 10,
      "outputs": [
        {
          "output_type": "stream",
          "name": "stdout",
          "text": [
            "Juntos podemos familias con necesidades básicas insatisfechas mi objetivo es mejorar por la igualdad reducir la pobreza mejores servicios públicos miles de votos \n"
          ]
        }
      ]
    },
    {
      "cell_type": "markdown",
      "source": [
        "## Problema N°3\n",
        "- Juego de Cara o Sello\n",
        "\n",
        "Crea un programa que permita jugar a \"Cara o Sello\" con el usuario. El programa seleccionará de\n",
        "manera aleatoria \"cara\" o \"sello\" y luego pedirá al usuario que haga su adivinanza. Si acierta, se le\n",
        "sumará un punto. Si falla, tendrá tres intentos antes de que el juego termine. Al finalizar el juego, se le\n",
        "mostrará al usuario la cantidad de puntos obtenidos y se le preguntará si quiere jugar de nuevo. Si el\n",
        "usuario elige \"sí\", el juego se reinicia. Si elige \"no\", el programa finaliza.\n",
        "\n",
        "### ALgoritmo\n",
        "1. Iniciar.\n",
        "2. Asignar el número de intentos y los puntos.\n",
        "3. Escoger al azar entre cara o sello.\n",
        "4. Solicitar a la persona que realice una suposición.\n",
        "5. Verificar si la suposición es correcta.\n",
        "6. Si la suposición es correcta, sumar un punto.\n",
        "7. Si no es correcta, restar un intento.\n",
        "8. Repetir los pasos 6 y 7 hasta que se agoten los intentos.\n",
        "9. Mostrar la cantidad de puntos obtenidos.\n",
        "10. Preguntar al usuario si desea jugar nuevamente.\n",
        "11. Si la respuesta es afirmativa, reiniciar el juego.\n",
        "\n",
        "\n",
        "### Pseudocodigo\n",
        "Program JuegoCaraOSello\n",
        "\n",
        "Inicio\n",
        "// Inicializar variables\n",
        "Puntos obtenidos = 0\n",
        "Intentos restantes = 3\n",
        "\n",
        "Mientras intentos restantes > 0\n",
        "// Seleccionar aleatoriamente cara o sello\n",
        "Elección = Aleatorio(\"cara\", \"sello\")\n",
        "\n",
        "// Pedir adivinanza al usuario\n",
        "Ingrese su adivinanza:\n",
        "Leer adivinanza\n",
        "\n",
        "Si adivinanza coincide con elección Then\n",
        "Sumar 1 punto\n",
        "Mostrar \"¡Correcto! Tienes \" + Puntos obtenidos + \" puntos.\"\n",
        "Else\n",
        "Restar 1 intento\n",
        "Mostrar \"Incorrecto. Te quedan \" + Intentos restantes + \" intentos.\"\n",
        "Fin Si\n",
        "Fin Mientras\n",
        "\n",
        "// Mostrar resultado final\n",
        "Mostrar \"Te has quedado sin intentos. Has conseguido \" + Puntos obtenidos + \" puntos.\"\n",
        "\n",
        "// Preguntar si quiere jugar de nuevo\n",
        "¿Quieres jugar de nuevo? (sí/no)\n",
        "Leer respuesta\n",
        "\n",
        "Si respuesta es \"sí\" Then\n",
        "Reiniciar juego\n",
        "Else\n",
        "Mostrar \"Gracias por jugar!\"\n",
        "Fin Si\n",
        "\n",
        "Fin"
      ],
      "metadata": {
        "id": "MmVjYHUnd8Vq"
      }
    },
    {
      "cell_type": "code",
      "source": [
        "\n",
        "def juego_de_adivinacion():\n",
        "    puntos_obtenidos = 0\n",
        "    intentos_restantes = 3\n",
        "    seguir_jugando = True\n",
        "\n",
        "    while seguir_jugando:\n",
        "        resultado = random.choice([\"cara\", \"sello\"])\n",
        "        prediccion = input(\"Adivine: cara o sello: \")\n",
        "\n",
        "        if prediccion == resultado:\n",
        "            puntos_obtenidos += 1\n",
        "            print(f\"¡Acertaste! Tienes {puntos_obtenidos} puntos.\")\n",
        "        else:\n",
        "            intentos_restantes -= 1\n",
        "            print(f\"Error. Te quedan {intentos_restantes} intentos.\")\n",
        "\n",
        "        if intentos_restantes == 0:\n",
        "            print(f\"Se te acabaron los intentos. Obtuviste {puntos_obtenidos} puntos.\")\n",
        "            seguir_jugando = False\n",
        "\n",
        "    decision = input(\"¿Quieres jugar de nuevo? (sí/no): \")\n",
        "\n",
        "    if decision.lower() == \"sí\":\n",
        "        puntos_obtenidos = 0\n",
        "        intentos_restantes = 3\n",
        "        juego_de_adivinacion()\n"
      ],
      "metadata": {
        "id": "qDEG1laggrLb"
      },
      "execution_count": 7,
      "outputs": []
    },
    {
      "cell_type": "code",
      "source": [],
      "metadata": {
        "id": "iofQJ5mWgsT8"
      },
      "execution_count": null,
      "outputs": []
    }
  ]
}